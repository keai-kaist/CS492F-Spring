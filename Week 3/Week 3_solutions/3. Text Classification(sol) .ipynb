{
 "cells": [
  {
   "cell_type": "markdown",
   "metadata": {},
   "source": [
    "# CS492 전산학특강<인공지능 산업 및 스마트에너지>\n",
    "## Deep Learning Practice \n",
    "#### Prof. Ho-Jin Choi\n",
    "#### School of Computing, KAIST\n",
    "\n",
    "---"
   ]
  },
  {
   "cell_type": "markdown",
   "metadata": {},
   "source": [
    "### 5-3. Text classification with an RNN\n",
    "\n",
    "Let's build text classification model with RNN on the IMDB dataset for sentiment analysis."
   ]
  },
  {
   "cell_type": "code",
   "execution_count": 1,
   "metadata": {},
   "outputs": [],
   "source": [
    "from __future__ import absolute_import, division, print_function, unicode_literals\n",
    "\n",
    "try:\n",
    "  # %tensorflow_version only exists in Colab.\n",
    "  %tensorflow_version 2.x\n",
    "except Exception:\n",
    "    pass\n",
    "import tensorflow_datasets as tfds\n",
    "import tensorflow as tf"
   ]
  },
  {
   "cell_type": "markdown",
   "metadata": {},
   "source": [
    "#### Setup input pipeline\n",
    "\n",
    "The IMDB large movie review dataset is a binary classification dataset—all the reviews have either a positive or negative sentiment.\n",
    "\n",
    "Download the dataset using [`TFDS`](https://www.tensorflow.org/datasets). The dataset comes with an inbuilt subword tokenizer.\n",
    "- Args of [`tfds.load`](https://www.tensorflow.org/datasets/api_docs/python/tfds/load):\n",
    "    - `name`: str, the registered name of the DatasetBuilder.\n",
    "    - `with_info`: bool, if True, tfds.load will return the tuple (tf.data.Dataset, tfds.core.DatasetInfo) containing the info associated with the builder.\n",
    "    - `as_supervised`: bool, if True, the returned tf.data.Dataset will have a 2-tuple structure (input, label) according to builder.info.supervised_keys. If False, the default, the returned tf.data.Dataset will have a dictionary with all the features."
   ]
  },
  {
   "cell_type": "code",
   "execution_count": 2,
   "metadata": {},
   "outputs": [
    {
     "name": "stderr",
     "output_type": "stream",
     "text": [
      "WARNING: Logging before flag parsing goes to stderr.\n",
      "W0925 15:04:37.715963 140045249144640 dataset_builder.py:439] Warning: Setting shuffle_files=True because split=TRAIN and shuffle_files=None. This behavior will be deprecated on 2019-08-06, at which point shuffle_files=False will be the default for all splits.\n"
     ]
    }
   ],
   "source": [
    "dataset, info = tfds.load('imdb_reviews/subwords8k', with_info=True,\n",
    "                          as_supervised=True)\n",
    "\n",
    "# !pip install ipywidgets\n",
    "# !jupyter nbextension enable --py widgetsnbextension\n",
    "\n",
    "train_dataset, test_dataset = dataset['train'], dataset['test']"
   ]
  },
  {
   "cell_type": "markdown",
   "metadata": {},
   "source": [
    "As this is a subwords tokenizer, it can be passed any string and the tokenizer will tokenize it.\n",
    "- Methods of [`tfds.features.text.SubwordTextEncoder`](https://www.tensorflow.org/datasets/api_docs/python/tfds/features/text/SubwordTextEncoder#encode):\n",
    "    - [`encode`](https://www.tensorflow.org/datasets/api_docs/python/tfds/features/text/SubwordTextEncoder#encode): Encodes text into a list of integers.\n",
    "    - [`decode`](https://www.tensorflow.org/datasets/api_docs/python/tfds/features/text/SubwordTextEncoder#decode): Decodes a list of integers into text."
   ]
  },
  {
   "cell_type": "code",
   "execution_count": 3,
   "metadata": {},
   "outputs": [
    {
     "name": "stdout",
     "output_type": "stream",
     "text": [
      "Vocabulary size: 8185\n"
     ]
    }
   ],
   "source": [
    "tokenizer = info.features['text'].encoder\n",
    "\n",
    "print ('Vocabulary size: {}'.format(tokenizer.vocab_size))"
   ]
  },
  {
   "cell_type": "code",
   "execution_count": 4,
   "metadata": {},
   "outputs": [
    {
     "name": "stdout",
     "output_type": "stream",
     "text": [
      "Tokenized string is [6307, 2327, 4043, 4265, 9, 2724, 7975]\n",
      "The original string: TensorFlow is cool.\n"
     ]
    }
   ],
   "source": [
    "sample_string = 'TensorFlow is cool.'\n",
    "\n",
    "# Encode the sample string to integers\n",
    "tokenized_string = tokenizer.encode(sample_string)\n",
    "print ('Tokenized string is {}'.format(tokenized_string))\n",
    "\n",
    "# Decode the encoded integers to the string \n",
    "original_string = tokenizer.decode(tokenized_string)\n",
    "print ('The original string: {}'.format(original_string))\n",
    "\n",
    "\n",
    "assert original_string == sample_string"
   ]
  },
  {
   "cell_type": "markdown",
   "metadata": {},
   "source": [
    "The tokenizer encodes the string by breaking it into subwords if the word is not in its dictionary."
   ]
  },
  {
   "cell_type": "code",
   "execution_count": 5,
   "metadata": {},
   "outputs": [
    {
     "name": "stdout",
     "output_type": "stream",
     "text": [
      "6307 ----> Ten\n",
      "2327 ----> sor\n",
      "4043 ----> Fl\n",
      "4265 ----> ow \n",
      "9 ----> is \n",
      "2724 ----> cool\n",
      "7975 ----> .\n"
     ]
    }
   ],
   "source": [
    "for ts in tokenized_string:\n",
    "    print ('{} ----> {}'.format(ts, tokenizer.decode([ts])))"
   ]
  },
  {
   "cell_type": "code",
   "execution_count": 6,
   "metadata": {},
   "outputs": [],
   "source": [
    "BUFFER_SIZE = 10000\n",
    "BATCH_SIZE = 64"
   ]
  },
  {
   "cell_type": "markdown",
   "metadata": {},
   "source": [
    "[`tf.data.Dataset.padded_batch`](https://www.tensorflow.org/versions/r2.0/api_docs/python/tf/data/Dataset#padded_batch): Combines consecutive elements of this dataset into padded batches."
   ]
  },
  {
   "cell_type": "code",
   "execution_count": 7,
   "metadata": {},
   "outputs": [],
   "source": [
    "train_dataset = train_dataset.shuffle(BUFFER_SIZE)\n",
    "train_dataset = train_dataset.padded_batch(BATCH_SIZE, train_dataset.output_shapes)\n",
    "\n",
    "test_dataset = test_dataset.padded_batch(BATCH_SIZE, test_dataset.output_shapes)"
   ]
  },
  {
   "cell_type": "markdown",
   "metadata": {},
   "source": [
    "#### Create the model\n",
    "Build a `tf.keras.Sequential` model and start with an _embedding layer_. An _embedding layer_ stores one vector per word. When called, **it converts the sequences of word indices to sequences of vectors**. **These vectors are trainable**. After training (on enough data), words with similar meanings often have similar vectors.\n",
    "\n",
    "A recurrent neural network (RNN) processes sequence input by iterating through the elements. RNNs pass the outputs from one timestep to their input—and then to the next.\n"
   ]
  },
  {
   "cell_type": "markdown",
   "metadata": {},
   "source": [
    "[`tf.keras.layers.LSTM`](https://www.tensorflow.org/versions/r2.0/api_docs/python/tf/keras/layers/LSTM): An LSTM layer with size units=hidden_units."
   ]
  },
  {
   "cell_type": "code",
   "execution_count": 8,
   "metadata": {},
   "outputs": [],
   "source": [
    "from tensorflow.keras import Sequential\n",
    "from tensorflow.keras.layers import Embedding, Bidirectional, Dense, LSTM\n",
    "\n",
    "lstm_model = Sequential([Embedding(tokenizer.vocab_size, 64), \n",
    "                         LSTM(64),\n",
    "                         # Bidirectional(LSTM(64)),\n",
    "                         Dense(64, activation='relu'),\n",
    "                         Dense(1, activation='sigmoid')\n",
    "                        ])\n"
   ]
  },
  {
   "cell_type": "markdown",
   "metadata": {},
   "source": [
    "Compile the Keras model to configure the training process:"
   ]
  },
  {
   "cell_type": "code",
   "execution_count": 9,
   "metadata": {},
   "outputs": [],
   "source": [
    "lstm_model.compile(loss='binary_crossentropy',\n",
    "                   optimizer='adam',\n",
    "                   metrics=['accuracy'])"
   ]
  },
  {
   "cell_type": "markdown",
   "metadata": {},
   "source": [
    "#### Train the model"
   ]
  },
  {
   "cell_type": "code",
   "execution_count": null,
   "metadata": {},
   "outputs": [],
   "source": [
    "lstm_history = lstm_model.fit(train_dataset, epochs=10,\n",
    "                              validation_data=test_dataset)"
   ]
  },
  {
   "cell_type": "code",
   "execution_count": 11,
   "metadata": {},
   "outputs": [
    {
     "name": "stdout",
     "output_type": "stream",
     "text": [
      "391/391 [==============================] - 25s 64ms/step - loss: 0.6963 - accuracy: 0.5021\n",
      "Test Loss: 0.6962835910680044\n",
      "Test Accuracy: 0.5021200180053711\n"
     ]
    }
   ],
   "source": [
    "test_loss, test_acc = lstm_model.evaluate(test_dataset)\n",
    "\n",
    "print('Test Loss: {}'.format(test_loss))\n",
    "print('Test Accuracy: {}'.format(test_acc))"
   ]
  },
  {
   "cell_type": "code",
   "execution_count": 12,
   "metadata": {},
   "outputs": [],
   "source": [
    "lstm_model.save('lstm_model_10ep.h5')"
   ]
  },
  {
   "cell_type": "markdown",
   "metadata": {},
   "source": [
    "\n",
    "The [`tf.keras.layers.Bidirectional`](https://www.tensorflow.org/versions/r2.0/api_docs/python/tf/keras/layers/Bidirectional) wrapper can also be used with an RNN layer. This propagates the **input forward and backwards through the RNN layer and then concatenates the output**. This helps the RNN to learn long range dependencies.\n",
    "- Example of Bidirectonal LSTM model\n",
    "<img src=https://www.i2tutorials.com/wp-content/uploads/2019/05/Deep-Dive-into-Bidirectional-LSTM-i2tutorials.jpg>"
   ]
  },
  {
   "cell_type": "code",
   "execution_count": 17,
   "metadata": {},
   "outputs": [],
   "source": [
    "blstm_model = Sequential([Embedding(tokenizer.vocab_size, 64), \n",
    "                         Bidirectional(LSTM(64)),\n",
    "                         Dense(64, activation='relu'),\n",
    "                         Dense(1, activation='sigmoid')\n",
    "                        ])\n",
    "\n",
    "blstm_model.compile(loss='binary_crossentropy',\n",
    "                   optimizer='adam',\n",
    "                   metrics=['accuracy'])"
   ]
  },
  {
   "cell_type": "code",
   "execution_count": 18,
   "metadata": {},
   "outputs": [
    {
     "name": "stdout",
     "output_type": "stream",
     "text": [
      "Epoch 1/10\n",
      "391/391 [==============================] - 113s 290ms/step - loss: 0.6179 - accuracy: 0.6554 - val_loss: 0.0000e+00 - val_accuracy: 0.0000e+00\n",
      "Epoch 2/10\n",
      "391/391 [==============================] - 109s 278ms/step - loss: 0.5665 - accuracy: 0.7086 - val_loss: 0.5682 - val_accuracy: 0.7605\n",
      "Epoch 3/10\n",
      "391/391 [==============================] - 109s 279ms/step - loss: 0.4903 - accuracy: 0.7843 - val_loss: 0.5808 - val_accuracy: 0.7471\n",
      "Epoch 4/10\n",
      "391/391 [==============================] - 109s 279ms/step - loss: 0.3750 - accuracy: 0.8487 - val_loss: 0.4467 - val_accuracy: 0.8048\n",
      "Epoch 5/10\n",
      "391/391 [==============================] - 109s 280ms/step - loss: 0.3101 - accuracy: 0.8802 - val_loss: 0.4219 - val_accuracy: 0.8159\n",
      "Epoch 6/10\n",
      "391/391 [==============================] - 109s 279ms/step - loss: 0.2598 - accuracy: 0.9028 - val_loss: 0.4352 - val_accuracy: 0.8266\n",
      "Epoch 7/10\n",
      "391/391 [==============================] - 109s 279ms/step - loss: 0.2157 - accuracy: 0.9196 - val_loss: 0.4046 - val_accuracy: 0.8360\n",
      "Epoch 8/10\n",
      "391/391 [==============================] - 109s 279ms/step - loss: 0.1795 - accuracy: 0.9378 - val_loss: 0.4463 - val_accuracy: 0.8309\n",
      "Epoch 9/10\n",
      "391/391 [==============================] - 109s 279ms/step - loss: 0.1470 - accuracy: 0.9499 - val_loss: 0.5054 - val_accuracy: 0.8296\n",
      "Epoch 10/10\n",
      "391/391 [==============================] - 109s 279ms/step - loss: 0.1291 - accuracy: 0.9559 - val_loss: 0.5391 - val_accuracy: 0.8204\n"
     ]
    }
   ],
   "source": [
    "blstm_history = blstm_model.fit(train_dataset, epochs=10,\n",
    "                              validation_data=test_dataset)"
   ]
  },
  {
   "cell_type": "code",
   "execution_count": 19,
   "metadata": {},
   "outputs": [
    {
     "name": "stdout",
     "output_type": "stream",
     "text": [
      "391/391 [==============================] - 36s 93ms/step - loss: 0.5391 - accuracy: 0.8204\n",
      "Test Loss: 0.5391427963362325\n",
      "Test Accuracy: 0.8203999996185303\n"
     ]
    }
   ],
   "source": [
    "test_loss, test_acc = blstm_model.evaluate(test_dataset)\n",
    "\n",
    "print('Test Loss: {}'.format(test_loss))\n",
    "print('Test Accuracy: {}'.format(test_acc))"
   ]
  },
  {
   "cell_type": "code",
   "execution_count": 20,
   "metadata": {},
   "outputs": [],
   "source": [
    "blstm_model.save('blstm_model_10ep.h5')"
   ]
  },
  {
   "cell_type": "markdown",
   "metadata": {},
   "source": [
    "The above **model does not mask the padding applied to the sequences**. This can lead to skewness if we train on padded sequences and test on un-padded sequences. Ideally the model would learn to ignore the padding, but as you can see below it does have a small effect on the output.\n",
    "\n",
    "If the prediction is >= 0.5, it is positive else it is negative."
   ]
  },
  {
   "cell_type": "code",
   "execution_count": 21,
   "metadata": {},
   "outputs": [],
   "source": [
    "def pad_to_size(vec, size):\n",
    "    zeros = [0] * (size - len(vec))\n",
    "    vec.extend(zeros)\n",
    "    return vec"
   ]
  },
  {
   "cell_type": "code",
   "execution_count": 22,
   "metadata": {},
   "outputs": [],
   "source": [
    "def sample_predict(sentence, pad):\n",
    "    tokenized_sample_pred_text = tokenizer.encode(sample_pred_text)\n",
    "\n",
    "    if pad:\n",
    "        tokenized_sample_pred_text = pad_to_size(tokenized_sample_pred_text, 64)\n",
    "\n",
    "    predictions = lstm_model.predict(tf.expand_dims(tokenized_sample_pred_text, 0))\n",
    "\n",
    "    return (predictions)"
   ]
  },
  {
   "cell_type": "code",
   "execution_count": 23,
   "metadata": {},
   "outputs": [
    {
     "name": "stdout",
     "output_type": "stream",
     "text": [
      "[[0.26790527]]\n"
     ]
    }
   ],
   "source": [
    "# predict on a sample text without padding.\n",
    "\n",
    "sample_pred_text = ('The movie was cool. The animation and the graphics '\n",
    "                    'were out of this world. I would recommend this movie.')\n",
    "predictions = sample_predict(sample_pred_text, pad=False)\n",
    "print (predictions)"
   ]
  },
  {
   "cell_type": "code",
   "execution_count": 24,
   "metadata": {},
   "outputs": [
    {
     "name": "stdout",
     "output_type": "stream",
     "text": [
      "[[0.5008312]]\n"
     ]
    }
   ],
   "source": [
    "# predict on a sample text with padding\n",
    "\n",
    "sample_pred_text = ('The movie was cool. The animation and the graphics '\n",
    "                    'were out of this world. I would recommend this movie.')\n",
    "predictions = sample_predict(sample_pred_text, pad=True)\n",
    "print (predictions)"
   ]
  },
  {
   "cell_type": "code",
   "execution_count": 25,
   "metadata": {},
   "outputs": [],
   "source": [
    "import matplotlib.pyplot as plt\n",
    "\n",
    "def plot_graphs(history, string):\n",
    "    plt.plot(history.history[string])\n",
    "    plt.plot(history.history['val_'+string])\n",
    "    plt.xlabel(\"Epochs\")\n",
    "    plt.ylabel(string)\n",
    "    plt.legend([string, 'val_'+string])\n",
    "    plt.show()"
   ]
  },
  {
   "cell_type": "code",
   "execution_count": 26,
   "metadata": {},
   "outputs": [
    {
     "data": {
      "image/png": "[encoded data removed]",
      "text/plain": [
       "<Figure size 432x288 with 1 Axes>"
      ]
     },
     "metadata": {
      "needs_background": "light"
     },
     "output_type": "display_data"
    }
   ],
   "source": [
    "plot_graphs(blstm_history, 'accuracy')"
   ]
  },
  {
   "cell_type": "markdown",
   "metadata": {},
   "source": [
    "#### Stack two or more LSTM layers\n",
    "Keras recurrent layers have two available modes that are controlled by the **_return_sequences_** constructor argument:\n",
    "- Return either the full sequences of successive outputs for each timestep (a 3D tensor of shape `(batch_size, timesteps, output_features)`).\n",
    "- Return only the last output for each input sequence (a 2D tensor of shape `(batch_size, output_features)`)."
   ]
  },
  {
   "cell_type": "code",
   "execution_count": 27,
   "metadata": {},
   "outputs": [],
   "source": [
    "blstm_2_model = Sequential([\n",
    "    Embedding(tokenizer.vocab_size, 64),\n",
    "    Bidirectional(LSTM(64, return_sequences=True)),\n",
    "    Bidirectional(LSTM(32)),\n",
    "    Dense(64, activation='relu'),\n",
    "    Dense(1, activation='sigmoid')\n",
    "])"
   ]
  },
  {
   "cell_type": "code",
   "execution_count": 28,
   "metadata": {},
   "outputs": [],
   "source": [
    "blstm_2_model.compile(loss='binary_crossentropy',\n",
    "                     optimizer='adam',\n",
    "                     metrics=['accuracy'])"
   ]
  },
  {
   "cell_type": "code",
   "execution_count": 29,
   "metadata": {},
   "outputs": [
    {
     "name": "stdout",
     "output_type": "stream",
     "text": [
      "Epoch 1/10\n",
      "391/391 [==============================] - 213s 545ms/step - loss: 0.5654 - accuracy: 0.7074 - val_loss: 0.0000e+00 - val_accuracy: 0.0000e+00\n",
      "Epoch 2/10\n",
      "391/391 [==============================] - 204s 521ms/step - loss: 0.3755 - accuracy: 0.8485 - val_loss: 0.3967 - val_accuracy: 0.8375\n",
      "Epoch 3/10\n",
      "391/391 [==============================] - 207s 530ms/step - loss: 0.2817 - accuracy: 0.8906 - val_loss: 0.3920 - val_accuracy: 0.8444\n",
      "Epoch 4/10\n",
      "391/391 [==============================] - 206s 527ms/step - loss: 0.2403 - accuracy: 0.9085 - val_loss: 0.4351 - val_accuracy: 0.8357\n",
      "Epoch 5/10\n",
      "391/391 [==============================] - 208s 533ms/step - loss: 0.1964 - accuracy: 0.9280 - val_loss: 0.4857 - val_accuracy: 0.8284\n",
      "Epoch 6/10\n",
      "391/391 [==============================] - 209s 534ms/step - loss: 0.1507 - accuracy: 0.9470 - val_loss: 0.5565 - val_accuracy: 0.8031\n",
      "Epoch 7/10\n",
      "391/391 [==============================] - 208s 533ms/step - loss: 0.1199 - accuracy: 0.9595 - val_loss: 0.5545 - val_accuracy: 0.8169\n",
      "Epoch 8/10\n",
      "391/391 [==============================] - 209s 534ms/step - loss: 0.1015 - accuracy: 0.9671 - val_loss: 0.6692 - val_accuracy: 0.8030\n",
      "Epoch 9/10\n",
      "391/391 [==============================] - 208s 531ms/step - loss: 0.0932 - accuracy: 0.9701 - val_loss: 0.6080 - val_accuracy: 0.8130\n",
      "Epoch 10/10\n",
      "391/391 [==============================] - 208s 531ms/step - loss: 0.1298 - accuracy: 0.9520 - val_loss: 0.6412 - val_accuracy: 0.6292\n"
     ]
    }
   ],
   "source": [
    "blstm_2_history = blstm_2_model.fit(train_dataset, epochs=10,\n",
    "                           validation_data=test_dataset)"
   ]
  },
  {
   "cell_type": "code",
   "execution_count": 30,
   "metadata": {},
   "outputs": [],
   "source": [
    "blstm_2_model.save('blstm_2_model_10ep.h5')"
   ]
  },
  {
   "cell_type": "code",
   "execution_count": 31,
   "metadata": {},
   "outputs": [
    {
     "name": "stdout",
     "output_type": "stream",
     "text": [
      "391/391 [==============================] - 56s 144ms/step - loss: 0.6412 - accuracy: 0.6292\n",
      "Test Loss: 0.641248063205758\n",
      "Test Accuracy: 0.6292399764060974\n"
     ]
    }
   ],
   "source": [
    "test_loss, test_acc = blstm_2_model.evaluate(test_dataset)\n",
    "\n",
    "print('Test Loss: {}'.format(test_loss))\n",
    "print('Test Accuracy: {}'.format(test_acc))"
   ]
  },
  {
   "cell_type": "code",
   "execution_count": 32,
   "metadata": {},
   "outputs": [
    {
     "data": {
      "image/png": "[encoded data removed]",
      "text/plain": [
       "<Figure size 432x288 with 1 Axes>"
      ]
     },
     "metadata": {
      "needs_background": "light"
     },
     "output_type": "display_data"
    }
   ],
   "source": [
    "plot_graphs(blstm_2_history, 'accuracy')"
   ]
  },
  {
   "cell_type": "code",
   "execution_count": 33,
   "metadata": {},
   "outputs": [
    {
     "data": {
      "image/png": "[encoded data removed]",
      "text/plain": [
       "<Figure size 432x288 with 1 Axes>"
      ]
     },
     "metadata": {
      "needs_background": "light"
     },
     "output_type": "display_data"
    }
   ],
   "source": [
    "plot_graphs(blstm_2_history, 'loss')"
   ]
  },
  {
   "cell_type": "code",
   "execution_count": null,
   "metadata": {},
   "outputs": [],
   "source": []
  }
 ],
 "metadata": {
  "kernelspec": {
   "display_name": "Python 3",
   "language": "python",
   "name": "python3"
  },
  "language_info": {
   "codemirror_mode": {
    "name": "ipython",
    "version": 3
   },
   "file_extension": ".py",
   "mimetype": "text/x-python",
   "name": "python",
   "nbconvert_exporter": "python",
   "pygments_lexer": "ipython3",
   "version": "3.6.10"
  }
 },
 "nbformat": 4,
 "nbformat_minor": 4
}
