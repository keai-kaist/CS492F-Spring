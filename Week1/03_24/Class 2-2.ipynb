{
 "cells": [
  {
   "cell_type": "markdown",
   "metadata": {},
   "source": [
    "# SEP532 인공지능 이론과 실제\n",
    "## Deep Learning Practice \n",
    "#### Prof. Ho-Jin Choi\n",
    "#### School of Computing, KAIST\n",
    "\n",
    "---"
   ]
  },
  {
   "cell_type": "markdown",
   "metadata": {},
   "source": [
    "### 2-2 Text classification using IMDB dataset"
   ]
  },
  {
   "cell_type": "markdown",
   "metadata": {},
   "source": [
    "#### IMDB dataset\n",
    "\n",
    "The IMDB dataset is for movie reviews as positive or negative using the text of the review. This contains the text of 50,000 movie reviews from the [Internet Movie Database](https://www.imdb.com/). These are split into 25,000 reviews for training and 25,000 reviews for testing. The training and testing sets are balanced, meaning they contain an equal number of positive and negative reviews."
   ]
  },
  {
   "cell_type": "code",
   "execution_count": 2,
   "metadata": {},
   "outputs": [
    {
     "name": "stdout",
     "output_type": "stream",
     "text": [
      "Tensorflow:  2.0.0\n"
     ]
    }
   ],
   "source": [
    "from __future__ import absolute_import, division, print_function, unicode_literals\n",
    "\n",
    "try:\n",
    "  # %tensorflow_version only exists in Colab.\n",
    "  %tensorflow_version 2.x\n",
    "except Exception:\n",
    "    pass\n",
    "import tensorflow as tf\n",
    "print('Tensorflow: ', tf.__version__)\n",
    "\n",
    "import numpy as np\n",
    "import matplotlib.pyplot as plt"
   ]
  },
  {
   "cell_type": "markdown",
   "metadata": {},
   "source": [
    "To handle the text dataset, We first need to transform the data into a form that can be used for training. There are two common methods, one-hot encoding and word embedding, in this practice, we'll use one-hot encoding method (Word embedding will be covered later in the RNN part). The another reason for using the one-hot encding method is to check the overfitting problem in next practice. \n",
    "\n",
    "\n",
    "<img src=\"images/one_vs_we.png\">\n",
    "\n",
    "Let's first download the IMDB dataset:"
   ]
  },
  {
   "cell_type": "code",
   "execution_count": 3,
   "metadata": {},
   "outputs": [],
   "source": [
    "NUM_WORDS = 10000\n",
    "\n",
    "(train_data, train_labels), (test_data, test_labels) = tf.keras.datasets.imdb.load_data(num_words=NUM_WORDS)"
   ]
  },
  {
   "cell_type": "markdown",
   "metadata": {},
   "source": [
    "The argument num_words=10000 keeps the top 10,000 most frequently occurring words in the training data. The rare words are discarded to keep the size of the data manageable."
   ]
  },
  {
   "cell_type": "markdown",
   "metadata": {},
   "source": [
    "Let's take a moment to understand the format of the data. The dataset comes preprocessed: each example is an array of integers representing the words of the movie review. Each label is an integer value of either 0 or 1, where 0 is a negative review, and 1 is a positive review."
   ]
  },
  {
   "cell_type": "code",
   "execution_count": 4,
   "metadata": {},
   "outputs": [
    {
     "name": "stdout",
     "output_type": "stream",
     "text": [
      "Training entries: 25000, labels: 25000\n",
      "Train data[0]: [1, 14, 22, 16, 43, 530, 973, 1622, 1385, 65, 458, 4468, 66, 3941, 4, 173, 36, 256, 5, 25, 100, 43, 838, 112, 50, 670, 2, 9, 35, 480, 284, 5, 150, 4, 172, 112, 167, 2, 336, 385, 39, 4, 172, 4536, 1111, 17, 546, 38, 13, 447, 4, 192, 50, 16, 6, 147, 2025, 19, 14, 22, 4, 1920, 4613, 469, 4, 22, 71, 87, 12, 16, 43, 530, 38, 76, 15, 13, 1247, 4, 22, 17, 515, 17, 12, 16, 626, 18, 2, 5, 62, 386, 12, 8, 316, 8, 106, 5, 4, 2223, 5244, 16, 480, 66, 3785, 33, 4, 130, 12, 16, 38, 619, 5, 25, 124, 51, 36, 135, 48, 25, 1415, 33, 6, 22, 12, 215, 28, 77, 52, 5, 14, 407, 16, 82, 2, 8, 4, 107, 117, 5952, 15, 256, 4, 2, 7, 3766, 5, 723, 36, 71, 43, 530, 476, 26, 400, 317, 46, 7, 4, 2, 1029, 13, 104, 88, 4, 381, 15, 297, 98, 32, 2071, 56, 26, 141, 6, 194, 7486, 18, 4, 226, 22, 21, 134, 476, 26, 480, 5, 144, 30, 5535, 18, 51, 36, 28, 224, 92, 25, 104, 4, 226, 65, 16, 38, 1334, 88, 12, 16, 283, 5, 16, 4472, 113, 103, 32, 15, 16, 5345, 19, 178, 32]. \n",
      "label[0]: 1\n"
     ]
    }
   ],
   "source": [
    "print(\"Training entries: {}, labels: {}\".format(len(train_data), len(train_labels)))\n",
    "print(\"Train data[0]: {}. \\nlabel[0]: {}\".format(train_data[0], train_labels[0]))"
   ]
  },
  {
   "cell_type": "markdown",
   "metadata": {},
   "source": [
    "From each data, we'll create an ont-hot encodering vector with a 10,000-dimension"
   ]
  },
  {
   "cell_type": "code",
   "execution_count": 7,
   "metadata": {},
   "outputs": [],
   "source": [
    "def multi_hot_sequences(sequences, dimension):\n",
    "    # Create an all-zero matrix of shape (len(sequences), dimension)\n",
    "    results = np.zeros((len(sequences), dimension))\n",
    "    \n",
    "    for i, word_indices in enumerate(sequences):\n",
    "        results[i, word_indices] = 1.0\n",
    "        \n",
    "    return results\n",
    "    \n",
    "    \n",
    "train_data = multi_hot_sequences(train_data, dimension=NUM_WORDS)\n",
    "test_data = multi_hot_sequences(test_data, dimension=NUM_WORDS)"
   ]
  },
  {
   "cell_type": "code",
   "execution_count": 8,
   "metadata": {},
   "outputs": [
    {
     "name": "stdout",
     "output_type": "stream",
     "text": [
      "Train data[0]: [0. 1. 1. ... 0. 0. 0.]. \n",
      "label[0]: 1\n"
     ]
    }
   ],
   "source": [
    "print(\"Train data[0]: {}. \\nlabel[0]: {}\".format(train_data[0], train_labels[0]))"
   ]
  },
  {
   "cell_type": "code",
   "execution_count": 9,
   "metadata": {},
   "outputs": [
    {
     "data": {
      "text/plain": [
       "[<matplotlib.lines.Line2D at 0x7fecac3bc8d0>]"
      ]
     },
     "execution_count": 9,
     "metadata": {},
     "output_type": "execute_result"
    },
    {
     "data": {
      "image/png": "[encoded data removed]",
      "text/plain": [
       "<Figure size 432x288 with 1 Axes>"
      ]
     },
     "metadata": {
      "needs_background": "light"
     },
     "output_type": "display_data"
    }
   ],
   "source": [
    "plt.plot(train_data[0])"
   ]
  },
  {
   "cell_type": "markdown",
   "metadata": {},
   "source": [
    "#### Build model\n",
    "\n",
    "Similar to previous model, we'll define a simple model using the [`tf.keras.layers.Dense`](https://www.tensorflow.org/versions/r2.0/api_docs/python/tf/keras/layers/Dense) layer."
   ]
  },
  {
   "cell_type": "code",
   "execution_count": 10,
   "metadata": {},
   "outputs": [],
   "source": [
    "# TODO: define a sequential model\n",
    "model = tf.keras.Sequential([\n",
    "    # TODO: add a first dense layer with 16 nodes applying ReLU activation function\n",
    "    tf.keras.layers.Dense(16, activation='relu', input_shape=(NUM_WORDS, )),\n",
    "    \n",
    "    # TODO: add a second dense layer with 16 nodes applying ReLU activation function\n",
    "    tf.keras.layers.Dense(16, activation='relu'),\n",
    "    \n",
    "    # TODO: add a last dense layer with only 1 node applying Softmax activation function\n",
    "    tf.keras.layers.Dense(1, activation='sigmoid') # 0~1\n",
    "    \n",
    "])"
   ]
  },
  {
   "cell_type": "code",
   "execution_count": 11,
   "metadata": {},
   "outputs": [
    {
     "name": "stdout",
     "output_type": "stream",
     "text": [
      "Model: \"sequential\"\n",
      "_________________________________________________________________\n",
      "Layer (type)                 Output Shape              Param #   \n",
      "=================================================================\n",
      "dense (Dense)                (None, 16)                160016    \n",
      "_________________________________________________________________\n",
      "dense_1 (Dense)              (None, 16)                272       \n",
      "_________________________________________________________________\n",
      "dense_2 (Dense)              (None, 1)                 17        \n",
      "=================================================================\n",
      "Total params: 160,305\n",
      "Trainable params: 160,305\n",
      "Non-trainable params: 0\n",
      "_________________________________________________________________\n"
     ]
    }
   ],
   "source": [
    "model.summary()"
   ]
  },
  {
   "cell_type": "markdown",
   "metadata": {},
   "source": [
    "#### Compile the model\n",
    "\n",
    "After defining the model structure, we configure the model such as optimizer, loss and metrics for training."
   ]
  },
  {
   "cell_type": "code",
   "execution_count": 13,
   "metadata": {},
   "outputs": [],
   "source": [
    "# TODO: compile the model with the following parameters\n",
    "# - Optimizer: adam optimizer\n",
    "# - Loss: binary_crossentropy\n",
    "# - Metrics: accuracy\n",
    "\n",
    "model.compile(optiizer='adam',\n",
    "             loss='binary_crossentropy', \n",
    "             metrics=['accuracy'])"
   ]
  },
  {
   "cell_type": "markdown",
   "metadata": {},
   "source": [
    "#### Create a validation set\n",
    "\n",
    "When training, we want to check the accuracy of the model on data it hasn't seen before. Create a validation set by setting apart 10,000 examples from the original training data. (Why not use the testing set now? Our goal is to develop and tune our model using only the training data, then use the test data just once to evaluate our accuracy)."
   ]
  },
  {
   "cell_type": "code",
   "execution_count": 14,
   "metadata": {},
   "outputs": [],
   "source": [
    "x_val = train_data[:10000]\n",
    "partial_x_train = train_data[10000:]\n",
    "\n",
    "y_val = train_labels[:10000]\n",
    "partial_y_train = train_labels[10000:]"
   ]
  },
  {
   "cell_type": "markdown",
   "metadata": {},
   "source": [
    "#### Train the model\n",
    "\n",
    "Then, we'll start to train the model."
   ]
  },
  {
   "cell_type": "code",
   "execution_count": 15,
   "metadata": {},
   "outputs": [],
   "source": [
    "# Define the batch size and the number of epochs to use during training\n",
    "BATCH_SIZE = 512\n",
    "EPOCHS = 20"
   ]
  },
  {
   "cell_type": "code",
   "execution_count": 16,
   "metadata": {},
   "outputs": [
    {
     "name": "stdout",
     "output_type": "stream",
     "text": [
      "Train on 15000 samples, validate on 10000 samples\n",
      "Epoch 1/20\n",
      "15000/15000 [==============================] - 7s 461us/sample - loss: 0.5135 - accuracy: 0.7818 - val_loss: 0.3803 - val_accuracy: 0.8785\n",
      "Epoch 2/20\n",
      "15000/15000 [==============================] - 1s 52us/sample - loss: 0.3059 - accuracy: 0.9031 - val_loss: 0.3038 - val_accuracy: 0.8901\n",
      "Epoch 3/20\n",
      "15000/15000 [==============================] - 1s 53us/sample - loss: 0.2266 - accuracy: 0.9274 - val_loss: 0.2785 - val_accuracy: 0.8934\n",
      "Epoch 4/20\n",
      "15000/15000 [==============================] - 1s 52us/sample - loss: 0.1750 - accuracy: 0.9450 - val_loss: 0.2750 - val_accuracy: 0.8910\n",
      "Epoch 5/20\n",
      "15000/15000 [==============================] - 1s 53us/sample - loss: 0.1464 - accuracy: 0.9527 - val_loss: 0.3217 - val_accuracy: 0.8743\n",
      "Epoch 6/20\n",
      "15000/15000 [==============================] - 1s 53us/sample - loss: 0.1182 - accuracy: 0.9637 - val_loss: 0.2914 - val_accuracy: 0.8853\n",
      "Epoch 7/20\n",
      "15000/15000 [==============================] - 1s 53us/sample - loss: 0.1014 - accuracy: 0.9699 - val_loss: 0.3566 - val_accuracy: 0.8680\n",
      "Epoch 8/20\n",
      "15000/15000 [==============================] - 1s 53us/sample - loss: 0.0819 - accuracy: 0.9769 - val_loss: 0.3496 - val_accuracy: 0.8777\n",
      "Epoch 9/20\n",
      "15000/15000 [==============================] - 1s 53us/sample - loss: 0.0664 - accuracy: 0.9838 - val_loss: 0.3497 - val_accuracy: 0.8800\n",
      "Epoch 10/20\n",
      "15000/15000 [==============================] - 1s 53us/sample - loss: 0.0571 - accuracy: 0.9846 - val_loss: 0.4269 - val_accuracy: 0.8643\n",
      "Epoch 11/20\n",
      "15000/15000 [==============================] - 1s 53us/sample - loss: 0.0447 - accuracy: 0.9904 - val_loss: 0.3987 - val_accuracy: 0.8765\n",
      "Epoch 12/20\n",
      "15000/15000 [==============================] - 1s 53us/sample - loss: 0.0365 - accuracy: 0.9925 - val_loss: 0.4379 - val_accuracy: 0.8749\n",
      "Epoch 13/20\n",
      "15000/15000 [==============================] - 1s 52us/sample - loss: 0.0298 - accuracy: 0.9941 - val_loss: 0.4747 - val_accuracy: 0.8689\n",
      "Epoch 14/20\n",
      "15000/15000 [==============================] - 1s 53us/sample - loss: 0.0237 - accuracy: 0.9958 - val_loss: 0.4933 - val_accuracy: 0.8726\n",
      "Epoch 15/20\n",
      "15000/15000 [==============================] - 1s 52us/sample - loss: 0.0197 - accuracy: 0.9959 - val_loss: 0.5281 - val_accuracy: 0.8696\n",
      "Epoch 16/20\n",
      "15000/15000 [==============================] - 1s 52us/sample - loss: 0.0143 - accuracy: 0.9978 - val_loss: 0.5559 - val_accuracy: 0.8696\n",
      "Epoch 17/20\n",
      "15000/15000 [==============================] - 1s 53us/sample - loss: 0.0119 - accuracy: 0.9981 - val_loss: 0.5837 - val_accuracy: 0.8701\n",
      "Epoch 18/20\n",
      "15000/15000 [==============================] - 1s 53us/sample - loss: 0.0114 - accuracy: 0.9981 - val_loss: 0.6347 - val_accuracy: 0.8664\n",
      "Epoch 19/20\n",
      "15000/15000 [==============================] - 1s 53us/sample - loss: 0.0052 - accuracy: 0.9999 - val_loss: 0.6601 - val_accuracy: 0.8639\n",
      "Epoch 20/20\n",
      "15000/15000 [==============================] - 1s 53us/sample - loss: 0.0066 - accuracy: 0.9991 - val_loss: 0.6864 - val_accuracy: 0.8657\n"
     ]
    }
   ],
   "source": [
    "# TODO: train the model using (train_data, train_labels) \n",
    "#       do not forget to set epochs and batch size as the parameters!\n",
    "# To compare the loss trend of train_data and validation_data, add the validation_data as a parameter of fit function\n",
    "model_history = model.fit(partial_x_train,\n",
    "                         partial_y_train,\n",
    "                         epochs=EPOCHS,\n",
    "                         batch_size=BATCH_SIZE,\n",
    "                         validation_data=(x_val, y_val),\n",
    "                         verbose=1)"
   ]
  },
  {
   "cell_type": "markdown",
   "metadata": {},
   "source": [
    "With this approach our model reaches a validation accuracy of around 88% (note the model is overfitting, training accuracy is significantly higher)."
   ]
  },
  {
   "cell_type": "markdown",
   "metadata": {},
   "source": [
    "#### Evaluate the model\n",
    "And let's see how the model performs. Two values will be returned. Loss (a number which represents our error, lower values are better), and accuracy."
   ]
  },
  {
   "cell_type": "code",
   "execution_count": 18,
   "metadata": {},
   "outputs": [
    {
     "name": "stdout",
     "output_type": "stream",
     "text": [
      "[0.7552487565422058, 0.85036]\n"
     ]
    }
   ],
   "source": [
    "results = model.evaluate(test_data, test_labels, verbose=0)\n",
    "print(results)"
   ]
  },
  {
   "cell_type": "markdown",
   "metadata": {},
   "source": [
    "This fairly naive approach achieves an accuracy of about 87%. With more advanced approaches, the model should get closer to 95%."
   ]
  },
  {
   "cell_type": "markdown",
   "metadata": {},
   "source": [
    "#### Plotting network performance trend"
   ]
  },
  {
   "cell_type": "code",
   "execution_count": 19,
   "metadata": {},
   "outputs": [
    {
     "data": {
      "text/plain": [
       "dict_keys(['loss', 'accuracy', 'val_loss', 'val_accuracy'])"
      ]
     },
     "execution_count": 19,
     "metadata": {},
     "output_type": "execute_result"
    }
   ],
   "source": [
    "history_dict = model_history.history\n",
    "history_dict.keys()"
   ]
  },
  {
   "cell_type": "code",
   "execution_count": 20,
   "metadata": {},
   "outputs": [
    {
     "data": {
      "image/png": "[encoded data removed]",
      "text/plain": [
       "<Figure size 864x648 with 1 Axes>"
      ]
     },
     "metadata": {
      "needs_background": "light"
     },
     "output_type": "display_data"
    },
    {
     "data": {
      "image/png": "[encoded data removed]",
      "text/plain": [
       "<Figure size 864x648 with 1 Axes>"
      ]
     },
     "metadata": {
      "needs_background": "light"
     },
     "output_type": "display_data"
    }
   ],
   "source": [
    "history_dict = model_history.history\n",
    "\n",
    "acc = history_dict['accuracy']\n",
    "val_acc = history_dict['val_accuracy']\n",
    "loss = history_dict['loss']\n",
    "val_loss = history_dict['val_loss']\n",
    "\n",
    "epochs = range(1, len(acc) + 1)\n",
    "\n",
    "plt.figure(figsize=(12,9))\n",
    "plt.plot(epochs, loss, 'bo', label='Training loss')\n",
    "plt.plot(epochs, val_loss, 'b', label='Validation loss')\n",
    "plt.title('Training and validation loss')\n",
    "plt.xlabel('Epochs')\n",
    "plt.ylabel('Loss')\n",
    "plt.legend()\n",
    "plt.show()\n",
    "\n",
    "plt.figure(figsize=(12,9))\n",
    "plt.plot(epochs, acc, 'bo', label='Training acc')\n",
    "plt.plot(epochs, val_acc, 'b', label='Validation acc')\n",
    "plt.title('Training and validation accuracy')\n",
    "plt.xlabel('Epochs')\n",
    "plt.ylabel('Accuracy')\n",
    "plt.legend(loc='lower right')\n",
    "plt.ylim((0.5,1))\n",
    "plt.show()"
   ]
  },
  {
   "cell_type": "markdown",
   "metadata": {},
   "source": [
    "In this plot, the dots represent the training loss and accuracy, and the solid lines are the validation loss and accuracy.\n",
    "\n",
    "Notice the training loss decreases with each epoch and the training accuracy increases with each epoch. This is expected when using a gradient descent optimization—it should minimize the desired quantity on every iteration.\n",
    "\n",
    "This isn't the case for the validation loss and accuracy—they seem to peak after about twenty epochs. **This is an example of _overfitting_: the model performs better on the training data than it does on data it has never seen before.** After this point, the model over-optimizes and learns representations specific to the training data that do not generalize to test data.\n",
    "\n",
    "For this particular case, we could prevent overfitting by simply stopping the training after twenty or so epochs. Later, you'll see how to do this automatically with a callback."
   ]
  }
 ],
 "metadata": {
  "kernelspec": {
   "display_name": "Python 3",
   "language": "python",
   "name": "python3"
  },
  "language_info": {
   "codemirror_mode": {
    "name": "ipython",
    "version": 3
   },
   "file_extension": ".py",
   "mimetype": "text/x-python",
   "name": "python",
   "nbconvert_exporter": "python",
   "pygments_lexer": "ipython3",
   "version": "3.6.9"
  }
 },
 "nbformat": 4,
 "nbformat_minor": 4
}
